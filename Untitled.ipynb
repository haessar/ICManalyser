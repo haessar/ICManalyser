{
 "cells": [
  {
   "cell_type": "code",
   "execution_count": 1,
   "metadata": {
    "collapsed": true
   },
   "outputs": [],
   "source": [
    "from bs4 import BeautifulSoup\n",
    "from requests import get\n",
    "import requests"
   ]
  },
  {
   "cell_type": "code",
   "execution_count": 2,
   "metadata": {
    "collapsed": false
   },
   "outputs": [],
   "source": [
    "def login(user,password):\n",
    "        \"\"\"Returns a requests.Session object with the user logged into\n",
    "        the icm website.  Assuming all the details are correct it \n",
    "        will return a session that will allow you to be logged in.\n",
    "        \"\"\"\n",
    "        \n",
    "        session = requests.session()\n",
    "        login_data = {\n",
    "                      'login[username]': user,\n",
    "                      'login[password]': password,\n",
    "                      'submit': 'login',\n",
    "                      }\n",
    "\n",
    "        session.post(\"https://www.icheckmovies.com/login/\", data=login_data)\n",
    "        return session"
   ]
  },
  {
   "cell_type": "code",
   "execution_count": 3,
   "metadata": {
    "collapsed": false
   },
   "outputs": [
    {
     "data": {
      "text/plain": [
       "<requests.sessions.Session at 0x104f74cd0>"
      ]
     },
     "execution_count": 3,
     "metadata": {},
     "output_type": "execute_result"
    }
   ],
   "source": [
    "passwd='xx'\n",
    "usrname='xx'\n",
    "login(usrname,passwd)"
   ]
  },
  {
   "cell_type": "code",
   "execution_count": 5,
   "metadata": {
    "collapsed": false
   },
   "outputs": [],
   "source": [
    "request = get('https://www.icheckmovies.com/movies/signal+to+noise+atari+game+over/')"
   ]
  },
  {
   "cell_type": "code",
   "execution_count": 6,
   "metadata": {
    "collapsed": false
   },
   "outputs": [
    {
     "name": "stdout",
     "output_type": "stream",
     "text": [
      "<Response [200]>\n"
     ]
    }
   ],
   "source": [
    "print(request)"
   ]
  },
  {
   "cell_type": "code",
   "execution_count": 9,
   "metadata": {
    "collapsed": true
   },
   "outputs": [],
   "source": [
    "cont = request.content "
   ]
  },
  {
   "cell_type": "code",
   "execution_count": 12,
   "metadata": {
    "collapsed": false
   },
   "outputs": [],
   "source": [
    "mov = Movie('https://www.icheckmovies.com/movies/signal+to+noise+atari+game+over/') "
   ]
  },
  {
   "cell_type": "code",
   "execution_count": 10,
   "metadata": {
    "collapsed": true
   },
   "outputs": [],
   "source": [
    "class Movie(object):\n",
    "    \"\"\"\n",
    "    title = \"Unknown\"\n",
    "    imdb = \"Unknown\"\n",
    "    lists = []\n",
    "    year = 0\n",
    "    runtime = 0\n",
    "    director = []\n",
    "    genres = []\n",
    "    rating = 0.0\n",
    "    votes = 0\n",
    "    checks = 0\n",
    "    favs = 0\n",
    "    dislikes = 0\n",
    "    checked = False\n",
    "    disliked = False\n",
    "    favourited = False\n",
    "    in_watchlist = False\n",
    "    owned = False\"\"\"\n",
    "\n",
    "    def __init__(self, url):\n",
    "        self.url = url\n",
    "        self.attributes = [\"title\",  \"imdb\", \"lists\", \"year\", \"runtime\", \"director\", \"genres\", \"rating\", \"votes\",\n",
    "                            \"checks\", \"favs\", \"dislikes\", \"checked\", \"disliked\", \"favourited\", \"in_watchlist\", \"owned\"]\n",
    "        for each in self.attributes:\n",
    "            setattr(self, each, None)\n",
    "        \n",
    "\n",
    "    def _parse(self, cont):\n",
    "        attrs = Movie.parse(cont)\n",
    "        for key, value in attrs.iteritems():\n",
    "            setattr(self, key, value)\n",
    "\n",
    "    @staticmethod\n",
    "    def parse(cont):\n",
    "        attributes = {}\n",
    "        soup = BeautifulSoup(cont)\n",
    "        #Extract the main block containing all the content\n",
    "        main = soup.find(\"div\", id = \"content\")\n",
    "        #Extract the title and year\n",
    "        title, year = main.div.div.h1.text.split(\"(\")\n",
    "        attributes['year'] = int(year.strip(\")   \"))\n",
    "        attributes['title'] = title.strip(\" \")\n",
    "        #Extract the main info\n",
    "        info = soup.find(\"div\", {\"class\" : \"span-7 last\"})\n",
    "        #Get rid of values we don't want\n",
    "        keys = info.dl.find_all(\"dt\")[1:-2]\n",
    "        keys = [key.string.lower() for key in keys]\n",
    "        values = info.dl.find_all(\"dd\")[1:-2]\n",
    "        vals = []\n",
    "\n",
    "        for each in values:\n",
    "            if each.string == None:\n",
    "                a = each.find_all(\"a\")\n",
    "                vals.append([each.string for each in a])\n",
    "            else:\n",
    "                vals.append(each.string)\n",
    "\n",
    "        for key, value in zip(keys, vals):\n",
    "            attributes[key] = value\n",
    "\n",
    "        attributes.update(Movie._titlebar(soup))\n",
    "        attributes.update(Movie._lists(soup))\n",
    "\n",
    "        attributes[\"imdb\"] = soup.find(\"a\",class_=\"icon iconSmall iconIMDB external\")['href']\n",
    "        return attributes\n",
    "\n",
    "    @staticmethod\n",
    "    def _titlebar(souped):\n",
    "        top = souped.find(\"div\", id = \"content\")\n",
    "        attrs = top.div.find(\"div\", id=\"movie\")['class']\n",
    "        final = {\n",
    "        \"disliked\": False if \"nothated\" in attrs else True,\n",
    "        \"checked\": False if \"unchecked\" in attrs else True,\n",
    "        \"owned\": False if \"notowned\" in attrs else True,\n",
    "        \"favourited\": False if \"notfavorite\" in attrs else True\n",
    "        }\n",
    "        return final\n",
    "\n",
    "    @staticmethod\n",
    "    def _lists(souped):\n",
    "        first = souped.find(\"ol\", class_ = \"itemList itemListCompact clearfix\")\n",
    "        titles = first.find_all(\"h3\")\n",
    "        final = {\"lists\":[h.a['href'] for h in titles]}\n",
    "        return final\n",
    "\n",
    "    def __iter__(self):\n",
    "        return ((x,(getattr(self, x))) for x in self.attributes)"
   ]
  },
  {
   "cell_type": "code",
   "execution_count": 13,
   "metadata": {
    "collapsed": true
   },
   "outputs": [],
   "source": [
    "mov._parse(cont) "
   ]
  },
  {
   "cell_type": "code",
   "execution_count": 14,
   "metadata": {
    "collapsed": false
   },
   "outputs": [
    {
     "name": "stdout",
     "output_type": "stream",
     "text": [
      "<__main__.Movie object at 0x104fad6d0>\n"
     ]
    }
   ],
   "source": [
    "print(mov)"
   ]
  },
  {
   "cell_type": "code",
   "execution_count": null,
   "metadata": {
    "collapsed": true
   },
   "outputs": [],
   "source": []
  }
 ],
 "metadata": {
  "kernelspec": {
   "display_name": "Python 2",
   "language": "python",
   "name": "python2"
  },
  "language_info": {
   "codemirror_mode": {
    "name": "ipython",
    "version": 2
   },
   "file_extension": ".py",
   "mimetype": "text/x-python",
   "name": "python",
   "nbconvert_exporter": "python",
   "pygments_lexer": "ipython2",
   "version": "2.7.9"
  }
 },
 "nbformat": 4,
 "nbformat_minor": 0
}
