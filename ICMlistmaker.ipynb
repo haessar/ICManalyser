{
 "cells": [
  {
   "cell_type": "code",
   "execution_count": 16,
   "metadata": {
    "collapsed": true
   },
   "outputs": [],
   "source": [
    "import requests\n",
    "import csv "
   ]
  },
  {
   "cell_type": "code",
   "execution_count": 17,
   "metadata": {
    "collapsed": false
   },
   "outputs": [],
   "source": [
    "listoffiles=[]\n",
    "def csvgetter(user,password,*otherusernames):\n",
    "    #first create a session 's'\n",
    "    s = requests.session()\n",
    "    #this is the data that is sent to login to icheckmovies\n",
    "    login_data={'login[username]': user,'login[password]': password,'submit': 'login',}\n",
    "    #here we send the login data, using the session created before\n",
    "    s.post(\"https://www.icheckmovies.com/login/\", data=login_data) \n",
    "    #once again, whithin the session we get the csv link and call it 'r'\n",
    "    usernames_list=list(otherusernames)\n",
    "    usernames_list.append(user)\n",
    "    for item in usernames_list:\n",
    "        url='https://www.icheckmovies.com/movies/checked/?user='+item+'&export'\n",
    "        r=s.get(url)\n",
    "        checklist=r.text\n",
    "        checklist_encode = checklist.encode('utf-8')\n",
    "        filename=item+'_checklist'+'.csv'\n",
    "        file=open(filename, \"w\")\n",
    "        file.write(checklist_encode)\n",
    "        file.close() \n",
    "        listoffiles.append(filename)\n",
    "    numberofusers=str((len(listoffiles)))\n",
    "    print('There are '+numberofusers+' users in the database: '+'\\n'+'\\n'.join(listoffiles))\n",
    "    \n",
    "def listmaker(username):\n",
    "    filmlist=[]\n",
    "    csvname=username+\"_checklist.csv\"\n",
    "    csv_reader = csv.reader(open(csvname, \"rb\"), delimiter=';')\n",
    "    for row in csv_reader:\n",
    "        filmlist.append(row[0])\n",
    "    return (filmlist)\n",
    "\n",
    "def multiname(*usernames):\n",
    "    for name in usernames:\n",
    "        listmaker(name)\n",
    "        listoffilmnames.append(filmlist)\n",
    "        print(name)"
   ]
  },
  {
   "cell_type": "markdown",
   "metadata": {},
   "source": [
    "now 'loginandgetcsv' will save a .csv in the parent directory called *username*_checklist.csv"
   ]
  },
  {
   "cell_type": "code",
   "execution_count": 48,
   "metadata": {
    "collapsed": false
   },
   "outputs": [
    {
     "ename": "SyntaxError",
     "evalue": "invalid syntax (<ipython-input-48-7190316a45b7>, line 1)",
     "output_type": "error",
     "traceback": [
      "\u001b[0;36m  File \u001b[0;32m\"<ipython-input-48-7190316a45b7>\"\u001b[0;36m, line \u001b[0;32m1\u001b[0m\n\u001b[0;31m    username1=\u001b[0m\n\u001b[0m              ^\u001b[0m\n\u001b[0;31mSyntaxError\u001b[0m\u001b[0;31m:\u001b[0m invalid syntax\n"
     ]
    }
   ],
   "source": [
    "username1=\n",
    "username2=\n",
    "username3=\n",
    "password=x"
   ]
  },
  {
   "cell_type": "code",
   "execution_count": null,
   "metadata": {
    "collapsed": true
   },
   "outputs": [],
   "source": [
    "csvgetter(username1,password,username2,username3)"
   ]
  },
  {
   "cell_type": "code",
   "execution_count": 50,
   "metadata": {
    "collapsed": false
   },
   "outputs": [],
   "source": [
    "listoffilmnames=[]\n",
    "\n",
    "def multiname(*usernames):\n",
    "    for name in usernames:\n",
    "        listmaker(name)\n",
    "        listoffilmnames.append(filmlist)\n",
    "        print(name)"
   ]
  },
  {
   "cell_type": "code",
   "execution_count": 1,
   "metadata": {
    "collapsed": false
   },
   "outputs": [
    {
     "ename": "NameError",
     "evalue": "name 'multiname' is not defined",
     "output_type": "error",
     "traceback": [
      "\u001b[0;31m---------------------------------------------------------------------------\u001b[0m",
      "\u001b[0;31mNameError\u001b[0m                                 Traceback (most recent call last)",
      "\u001b[0;32m<ipython-input-1-7c49aaf7320f>\u001b[0m in \u001b[0;36m<module>\u001b[0;34m()\u001b[0m\n\u001b[0;32m----> 1\u001b[0;31m \u001b[0mmultiname\u001b[0m\u001b[0;34m(\u001b[0m\u001b[0musername1\u001b[0m\u001b[0;34m,\u001b[0m\u001b[0musername2\u001b[0m\u001b[0;34m,\u001b[0m\u001b[0musername3\u001b[0m\u001b[0;34m)\u001b[0m\u001b[0;34m\u001b[0m\u001b[0m\n\u001b[0m",
      "\u001b[0;31mNameError\u001b[0m: name 'multiname' is not defined"
     ]
    }
   ],
   "source": [
    "multiname(username1,username2,username3)"
   ]
  }
 ],
 "metadata": {
  "kernelspec": {
   "display_name": "Python 2",
   "language": "python",
   "name": "python2"
  }
 },
 "nbformat": 4,
 "nbformat_minor": 0
}
