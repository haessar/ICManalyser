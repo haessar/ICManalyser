{
 "cells": [
  {
   "cell_type": "code",
   "execution_count": 1,
   "metadata": {
    "collapsed": true
   },
   "outputs": [],
   "source": [
    "from bs4 import BeautifulSoup\n",
    "from requests import get\n",
    "import requests\n",
    "import csv "
   ]
  },
  {
   "cell_type": "code",
   "execution_count": 6,
   "metadata": {
    "collapsed": false
   },
   "outputs": [],
   "source": [
    "def loginandgetcsv(user,password,user1,user2,user3):\n",
    "    #first create a session 's'\n",
    "    s = requests.session()\n",
    "    #this is the data that is sent to login to icheckmovies\n",
    "    login_data = {'login[username]': user,'login[password]': password,'submit': 'login',}\n",
    "    #here we send the login data, using the session created before\n",
    "    s.post(\"https://www.icheckmovies.com/login/\", data=login_data) \n",
    "    #once again, whithin the session we get the csv link and call it 'r'\n",
    "    usernamelist=[user1,user2,user3]\n",
    "    for item in usernamelist:\n",
    "        url='https://www.icheckmovies.com/movies/checked/?user='+item+'&export'\n",
    "        r=s.get(url)\n",
    "        checklist=r.text\n",
    "        checklist_encode = checklist.encode('utf-8')\n",
    "        filename=item+'_checklist'+'.csv'\n",
    "        file = open(filename, \"w\")\n",
    "        file.write(checklist_encode)\n",
    "        file.close() "
   ]
  },
  {
   "cell_type": "markdown",
   "metadata": {},
   "source": [
    "now 'loginandgetcsv' will save a .csv in the parent directory called *username*_checklist.csv"
   ]
  },
  {
   "cell_type": "code",
   "execution_count": 7,
   "metadata": {
    "collapsed": false
   },
   "outputs": [],
   "source": [
    "loginandgetcsv(user,password,user1,user2,user3)"
   ]
  },
  {
   "cell_type": "code",
   "execution_count": null,
   "metadata": {
    "collapsed": true
   },
   "outputs": [],
   "source": []
  }
 ],
 "metadata": {
  "kernelspec": {
   "display_name": "Python 2",
   "language": "python",
   "name": "python2"
  },
  "language_info": {
   "codemirror_mode": {
    "name": "ipython",
    "version": 2
   },
   "file_extension": ".py",
   "mimetype": "text/x-python",
   "name": "python",
   "nbconvert_exporter": "python",
   "pygments_lexer": "ipython2",
   "version": "2.7.9"
  }
 },
 "nbformat": 4,
 "nbformat_minor": 0
}
