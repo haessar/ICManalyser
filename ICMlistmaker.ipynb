{
 "cells": [
  {
   "cell_type": "code",
   "execution_count": 1,
   "metadata": {
    "collapsed": true
   },
   "outputs": [],
   "source": [
    "from bs4 import BeautifulSoup\n",
    "from requests import get\n",
    "import requests"
   ]
  },
  {
   "cell_type": "code",
   "execution_count": 2,
   "metadata": {
    "collapsed": false
   },
   "outputs": [],
   "source": [
    "user='xx'\n",
    "password='xx'\n",
    "s = requests.session()\n",
    "login_data = {\n",
    "                      'login[username]': user,\n",
    "                      'login[password]': password,\n",
    "                      'submit': 'login',\n",
    "                      }\n",
    "\n",
    "s.post(\"https://www.icheckmovies.com/login/\", data=login_data) \n",
    "\n",
    "r=s.get('https://www.icheckmovies.com/movies/checked/?export')"
   ]
  },
  {
   "cell_type": "code",
   "execution_count": 3,
   "metadata": {
    "collapsed": false
   },
   "outputs": [
    {
     "data": {
      "text/plain": [
       "'utf-8'"
      ]
     },
     "execution_count": 3,
     "metadata": {},
     "output_type": "execute_result"
    }
   ],
   "source": [
    "r.encoding"
   ]
  },
  {
   "cell_type": "code",
   "execution_count": 4,
   "metadata": {
    "collapsed": false
   },
   "outputs": [
    {
     "data": {
      "text/plain": [
       "u'<!DOCTYPE html>\\n<html>\\n<head prefix=\"og: http://ogp.me/ns# fb: http://ogp.me/ns/fb# icm-app: http://ogp.me/ns/fb/icm-app#\">\\n\\t<title>Login - iCheckMovies.com</title>\\n\\t<meta http-equiv=\"Content-Type\" content=\"text/html; charset=utf-8\" />\\n\\n\\t<meta name=\"description\" content=\"Login.\" />\\n\\t<meta name=\"keywords\" content=\"\" />\\n\\t<meta name=\"robots\" content=\"index,follow\" />\\n\\t\\n\\t<meta property=\"og:site_name\" content=\"iCheckMovies\" />\\n\\n\\t\\n\\t<link rel=\"icon\" type=\"image/x-icon\" href=\"/favicon.ico\" />\\n\\t<link rel=\"shortcut icon\" type=\"image/x-icon\" href=\"/favicon.ico\" />\\n\\n\\t<link rel=\"search\" type=\"application/opensearchdescription+xml\" title=\"iCheckMovies\" href=\"/opensearch.xml?version=2.0.13\" />\\n\\n\\t\\n\\t<link href=\"https://fonts.googleapis.com/css?family=Magra:700&amp;subset=latin,latin-ext\" rel=\"stylesheet\" type=\\'text/css\\'>\\n\\n\\t\\t<link type=\"text/css\" href=\"https://ajax.googleapis.com/ajax/libs/jqueryui/1.8.17/themes/base/jquery-ui.css\" rel=\"Stylesheet\" />\\n\\t<link rel=\"stylesheet\" type=\"text/css\" media=\"screen\" href=\"/style/gui.css?version=2.2.74\" />\\n</head>\\n<body>\\n\\t<div id=\"header\">\\n    <div class=\"container\">\\n        <div id=\"logo\">\\n            <h2><a href=\"http://www.icheckmovies.com/\" title=\"iCheckMovies\">Login</a></h2>\\n        </div>\\n\\n        <div id=\"user\">\\n            <div id=\"profileBox\">\\n                                <a href=\"https://www.icheckmovies.com/login/\" title=\"Log-in\">Login</a> or <a href=\"https://www.icheckmovies.com/register/\" title=\"Register\">Sign Up</a>!\\n                \\n                            </div>\\n            \\n            <div id=\"searchBox\">\\n                <form id=\"search\" class=\"noFocus\" action=\"/search/movies/\" method=\"get\">\\n                    <div>\\n                        <input class=\"searchBox autocomplete movies redirect default header\" type=\"text\" id=\"searchQuery\" name=\"query\" value=\"Search iCheckMovies\" title=\"Search iCheckMovies\" />\\n\\n                        <button type=\"submit\">Go</button>\\n                    </div>\\n                </form>\\n            </div>\\n        </div>\\n    </div>\\n</div>\\n\\n\\t<div id=\"mainNavigation\">\\n\\t\\t<div class=\"container\">\\n\\t\\t\\t<ol id=\"userSteps\">\\n        <li class=\"step01\">\\n        <h3>\\n            <a href=\"http://www.icheckmovies.com/register/\" title=\"Sign up\"><span>Sign up</span></a>\\n        </h3>\\n    </li>\\n\\n    <li class=\"step02\">\\n        <h3>\\n            <a href=\"http://www.icheckmovies.com/charts/movies/\" title=\"View the movie charts\"><span>Movie charts</span></a>\\n        </h3>\\n    </li>\\n\\n    <li class=\"step03\">\\n        <h3>\\n            <a href=\"http://www.icheckmovies.com/charts/profiles/\" title=\"View the user charts\"><span>Profile charts</span></a>\\n        </h3>\\n    </li>\\n    </ol>\\n\\n\\t\\t</div>\\n\\t</div>\\n\\n\\t<div id=\"content\">\\n\\t\\t<div class=\"container\">\\n\\t\\t\\t<script type=\"text/javascript\" src=\"https://www.google.com/jsapi\"></script>\\n\\t\\t\\t<script type=\"text/javascript\">\\n\\t\\t\\t\\tgoogle.load(\"jquery\", \"1\");\\n\\t\\t\\t</script>\\n\\n\\t\\t    <div class=\"container containerDivider\">\\n\\t<h1>Log in</h1>\\n\\t\\n\\t<form id=\"login\" action=\"/login/\" method=\"post\">\\n\\n\\t\\t\\t\\t\\n\\t\\t<fieldset>\\n\\t\\t\\t<legend>Log in</legend>\\n\\t\\t\\t\\n\\t\\t\\t<input type=\"hidden\" name=\"referrer\" value=\"/movies/checked/?export\" />\\n            <input type=\"hidden\" name=\"validationToken\" value=\"99157a47182bb9cf409d04c85c88d58f0b5a394a216a23a5296a4a1bbde38f88\" />\\n\\n\\t\\t\\t<ol>\\n\\t\\t\\t\\t<li>\\n\\t\\t\\t\\t\\t<label for=\"loginUsername\">\\n\\t\\t\\t\\t\\t\\tUsername or email address\\n\\t\\t\\t\\t\\t\\t\\n\\t\\t\\t\\t\\t\\t\\t\\t\\t\\t\\t</label>\\n\\t\\t\\t\\t\\t\\n\\t\\t\\t\\t\\t<input class=\"text\" type=\"text\" id=\"loginUsername\" name=\"login[username]\" />\\n\\t\\t\\t\\t\\t\\n\\t\\t\\t\\t\\t<div class=\"help\" style=\"display: none;\">\\n\\t\\t\\t\\t\\t\\t<strong>Your username or email address</strong>\\n\\t\\t\\t\\t\\t</div>\\n\\t\\t\\t\\t</li>\\n\\t\\t\\t\\t\\n\\t\\t\\t\\t<li>\\n\\t\\t\\t\\t\\t<label for=\"loginPassword\">\\n\\t\\t\\t\\t\\t\\tPassword\\n\\t\\t\\t\\t\\t\\t\\n\\t\\t\\t\\t\\t\\t\\t\\n\\t\\t\\t\\t\\t</label>\\n\\t\\t\\t\\t\\t\\n\\t\\t\\t\\t\\t<input class=\"text\" type=\"password\" id=\"loginPassword\" name=\"login[password]\" />\\n\\t\\t\\t\\t\\t\\n\\t\\t\\t\\t\\t<div class=\"help\" style=\"display: none;\">\\n\\t\\t\\t\\t\\t\\t<strong>Your password (<a href=\"/forgot+password/\" title=\"Forgot your password?\">I forgot my password</a>)</strong>\\n\\t\\n\\t\\t\\t\\t\\t\\t<p>Don\\'t show anyone!</p>\\n\\t\\t\\t\\t\\t</div>\\n\\t\\t\\t\\t</li>\\n\\t\\t\\t\\t\\n\\t\\t\\t\\t<li>\\n\\t\\t\\t\\t\\t<input type=\"checkbox\" id=\"loginRememberMe\" name=\"login[rememberMe]\" checked=\"checked\" /> \\n\\t\\t\\t\\t\\t\\n\\t\\t\\t\\t\\t<label class=\"inline\" for=\"loginRememberMe\"><strong>I\\'ll be back</strong></label>\\n\\t\\t\\t\\t</li>\\n\\t\\t\\t</ol>\\n\\t\\t</fieldset>\\n\\t\\t\\n\\t\\t<div>\\n\\t\\t\\t<button type=\"submit\">Log in</button> or <a href=\"/forgot+password/\" title=\"Forgot your password?\">Get your password</a>\\n\\t\\t</div>\\n\\t</form>\\n</div>\\n\\n<div class=\"container containerDivider\">\\n\\t<h3>New to iCheckMovies?</h3>\\n\\n\\t<div class=\"highlightBlock\">\\n\\t\\t<p class=\"callToAction\">\\n\\t\\t\\t<a class=\"buttonSignup\" href=\"https://www.icheckmovies.com/register/\" title=\"Register\">Sign up</a> or <a href=\"/help/tour/\">Get a tour</a>\\n\\t\\t</p>\\n\\t</div>\\n</div>\\n\\t\\t</div>\\n\\t</div>\\n\\n\\t<div id=\"footer\">\\n    <div id=\"footerNavigation\" class=\"navigation container\">\\n        <div id=\"navigationPath\">\\n            <p>You are here:</p>\\n\\n            <ul>\\n                                <li>\\n                                        <a href=\"http://www.icheckmovies.com/\" title=\"Go to the Home page\">Home</a>\\n                                    </li>\\n                                <li>\\n                                        <strong>Login</strong>\\n                                    </li>\\n                            </ul>\\n        </div>\\n\\n        <div class=\"span-3\">\\n            <h3>About</h3>\\n\\n            <ul>\\n                <li><a href=\"http://www.icheckmovies.com/about/people/\" title=\"Meet the people behind iCheckMovies\">Who we are</a></li>\\n                <li><a href=\"http://www.icheckmovies.com/blog/\" title=\"Read our blog\">Blog</a></li>\\n                <li><a href=\"http://www.icheckmovies.com/about/disclaimer/\" title=\"Read the iCheckMovies disclaimer\">Disclaimer</a></li>\\n                <li><a href=\"http://www.icheckmovies.com/about/terms+of+use/\" title=\"View the terms of use\">Terms of use</a></li>\\n                <li><a href=\"http://www.icheckmovies.com/about/press/\" title=\"See all press material on iCheckMovies\">Press</a></li>\\n            </ul>\\n        </div>\\n\\n        <div id=\"help\" class=\"span-3\">\\n            <h3>Help</h3>\\n\\n            <ul>\\n                <li><a href=\"http://www.icheckmovies.com/help/tour/\" title=\"See the tour\">Tour</a></li>\\n                <li><a href=\"http://www.icheckmovies.com/help/faq/\" title=\"See the frequently asked questions\">FAQ</a></li>\\n                <li><a href=\"http://www.icheckmovies.com/search/\" title=\"Search iCheckMovies\">Search</a></li>\\n                <li><a href=\"http://www.icheckmovies.com/about/contact/\" title=\"Contact us\">Contact</a></li>\\n            </ul>\\n        </div>\\n\\n        <div class=\"span-3\">\\n            <h3>Other pages</h3>\\n\\n            <ul>\\n                <li><a href=\"http://www.icheckmovies.com/about/roadmap/\" title=\"See the iCheckMovies roadmap\">Roadmap</a></li>\\n                <li><a href=\"http://www.icheckmovies.com/about/changelog/\" title=\"See the iCheckMovies changelog\">Changelog</a></li>\\n                <li><a href=\"http://www.icheckmovies.com/about/thanks/\" title=\"See who we have to thank for this site\">Thanks</a></li>\\n                <li><a href=\"http://www.icheckmovies.com/about/testimonials/\" title=\"See what are people think of iCheckMovies\">Testimonials</a></li>\\n            </ul>\\n        </div>\\n\\n        <div class=\"span-3\">\\n            <h3>On the web</h3>\\n\\n            <ul>\\n                <li><a class=\"external\" href=\"http://twitter.com/icheckmovies\">Twitter</a></li>\\n                <li><a class=\"external\" href=\"http://www.facebook.com/icheckmovies\">Facebook</a></li>\\n                <li><a class=\"external\" href=\"http://www.youtube.com/icheckmovies\">YouTube</a></li>\\n                <li><a class=\"external\" href=\"https://icheckmovies.uservoice.com/forums/160324-general\">Uservoice</a></li>\\n                <li><a class=\"external\" href=\"https://trello.com/b/qaYhdlKd/icheckmovies\">Trello</a></li>\\n            </ul>\\n        </div>\\n\\n        <div id=\"colophon\" class=\"span-9 last\">\\n            <h3>Colophon</h3>\\n\\n            <p>\\n                Copyright &copy; 2009 &ndash; 2015 iCheckMovies. <br /> iCheckMovies is a <strong>Studio Donder</strong> project. <br /> <a href=\"http://www.imdb.com\" title=\"IMDb.com\" class=\"external\">IMDb&trade;</a> is a registered trademark. <br />\\n                Movie covers are copyrighted by their respective owners and provided by <a href=\"http://www.movieposterdb.com/\" title=\"MoviePosterDB\" class=\"external\">MoviePosterDB</a>.<br />\\n                We happily endorse the <a class=\"external\" title=\"Unofficial iCheckMovies Forum\" href=\"http://s15.zetaboards.com/iCheckMovies/index/\">Unofficial iCheckMovies Forum</a>.\\n            </p>\\n        </div>\\n    </div>\\n</div>\\n\\t<script type=\"text/javascript\">\\n    google.load(\"jqueryui\", \"1\");\\n</script>\\n\\n<script type=\"text/javascript\" src=\"/script/lib/jquery/jquery.autocomplete.min.js\"></script>\\n<script type=\"text/javascript\" src=\"/script/lib/jquery/jquery.tools.min.js\"></script>\\n<script type=\"text/javascript\" src=\"/script/lib/jquery/jquery.truncate.min.js\"></script>\\n\\n\\n<script type=\"text/javascript\" charset=\"ISO-8859-1\" src=\"/script/main.min.js?version=2.3.06\"></script>\\n\\n\\n<script type=\"text/javascript\">\\nvar gaJsHost = ((\"https:\" == document.location.protocol) ? \"https://ssl.\" : \"http://www.\");\\ndocument.write(unescape(\"%3Cscript src=\\'\" + gaJsHost + \"google-analytics.com/ga.js\\' type=\\'text/javascript\\'%3E%3C/script%3E\"));\\n</script>\\n<script type=\"text/javascript\">\\ntry {\\n    var pageTracker = _gat._getTracker(\\'UA-8605128-1\\');\\n    pageTracker._trackPageview();\\n} catch(err) {}\\n</script>\\n\\n\\n    \\n</body>\\n</html>'"
      ]
     },
     "execution_count": 4,
     "metadata": {},
     "output_type": "execute_result"
    }
   ],
   "source": [
    "r.text"
   ]
  },
  {
   "cell_type": "code",
   "execution_count": null,
   "metadata": {
    "collapsed": true
   },
   "outputs": [],
   "source": []
  }
 ],
 "metadata": {
  "kernelspec": {
   "display_name": "Python 2",
   "language": "python",
   "name": "python2"
  },
  "language_info": {
   "codemirror_mode": {
    "name": "ipython",
    "version": 2
   },
   "file_extension": ".py",
   "mimetype": "text/x-python",
   "name": "python",
   "nbconvert_exporter": "python",
   "pygments_lexer": "ipython2",
   "version": "2.7.9"
  }
 },
 "nbformat": 4,
 "nbformat_minor": 0
}
