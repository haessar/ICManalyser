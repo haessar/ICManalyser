{
 "cells": [
  {
   "cell_type": "code",
   "execution_count": 1,
   "metadata": {
    "collapsed": true
   },
   "outputs": [],
   "source": [
    "import requests\n",
    "import csv "
   ]
  },
  {
   "cell_type": "code",
   "execution_count": 2,
   "metadata": {
    "collapsed": false
   },
   "outputs": [],
   "source": [
    "listoffiles=[]\n",
    "listoffilmnames=[]\n",
    "\n",
    "def csvgetter(user,password,*otherusernames):\n",
    "    #first create a session 's'\n",
    "    s=requests.session()\n",
    "    #this is the data that is sent to login to icheckmovies\n",
    "    login_data={'login[username]': user,'login[password]': password,'submit': 'login',}\n",
    "    #here we send the login data, using the session created before\n",
    "    s.post(\"https://www.icheckmovies.com/login/\", data=login_data) \n",
    "    #once again, whithin the session we get the csv link and call it 'r'\n",
    "    usernames_list=list(otherusernames)\n",
    "    usernames_list.append(user)\n",
    "    for item in usernames_list:\n",
    "        url='https://www.icheckmovies.com/movies/checked/?user='+item+'&export'\n",
    "        r=s.get(url)\n",
    "        checklist=r.text\n",
    "        checklist_encode = checklist.encode('utf-8')\n",
    "        filename=item+'_checklist'+'.csv'\n",
    "        file=open(filename, \"w\")\n",
    "        file.write(checklist_encode)\n",
    "        file.close() \n",
    "        listoffiles.append(filename)\n",
    "    numberofusers=str((len(listoffiles)))\n",
    "    print('There are '+numberofusers+' users in the database: '+'\\n'+'\\n'.join(listoffiles))\n",
    "    \n",
    "def listmaker(username):\n",
    "    filmlist=[]\n",
    "    csvname=username+\"_checklist.csv\"\n",
    "    csv_reader = csv.reader(open(csvname, \"rb\"), delimiter=';')\n",
    "    for row in csv_reader:\n",
    "        filmlist.append(row[0])\n",
    "    return (filmlist)\n",
    "\n",
    "def multiname(*usernames):\n",
    "    for name in usernames:\n",
    "        listmaker(name)\n",
    "        listoffilmnames.append(filmlist)\n",
    "        print(name)"
   ]
  },
  {
   "cell_type": "markdown",
   "metadata": {},
   "source": [
    "now 'loginandgetcsv' will save a .csv in the parent directory called *username*_checklist.csv"
   ]
  },
  {
   "cell_type": "code",
   "execution_count": 3,
   "metadata": {
    "collapsed": false
   },
   "outputs": [],
   "source": [
    "username1=''\n",
    "username2=''\n",
    "username3=''\n",
    "password=''"
   ]
  },
  {
   "cell_type": "code",
   "execution_count": 4,
   "metadata": {
    "collapsed": false
   },
   "outputs": [
    {
     "name": "stdout",
     "output_type": "stream",
     "text": [
      "There are 3 users in the database: \n",
      "Haessar_checklist.csv\n",
      "James88_checklist.csv\n",
      "hermesmovies_checklist.csv\n"
     ]
    }
   ],
   "source": [
    "csvgetter(username1,password,username2,username3)"
   ]
  },
  {
   "cell_type": "code",
   "execution_count": 5,
   "metadata": {
    "collapsed": false
   },
   "outputs": [],
   "source": [
    "willlist=listmaker(username2)\n",
    "davelist=listmaker(username1)\n",
    "jameslist=listmaker(username3)"
   ]
  },
  {
   "cell_type": "code",
   "execution_count": 3,
   "metadata": {
    "collapsed": false
   },
   "outputs": [],
   "source": [
    "#this is working on a function that will do everything\n",
    "def superfunction(usr1,pssword,*usrs):\n",
    "    username1=usr1\n",
    "    username2=usrs[0]\n",
    "    username3=usrs[1]\n",
    "    password=pssword\n",
    "    csvgetter(username1,password,username2,username3)\n",
    "    multiname(username1,username2,username3)"
   ]
  },
  {
   "cell_type": "code",
   "execution_count": 6,
   "metadata": {
    "collapsed": false
   },
   "outputs": [],
   "source": [
    "superlist=[]\n",
    "davewillshared=[]\n",
    "davejamesshared=[]\n",
    "willjamesshared=[]\n",
    "superlist.extend(willlist+davelist+jameslist)\n",
    "davewillshared.extend(willlist+davelist)\n",
    "davejamesshared.extend(davelist+jameslist)\n",
    "willjamesshared.extend(willlist+jameslist)"
   ]
  },
  {
   "cell_type": "code",
   "execution_count": 7,
   "metadata": {
    "collapsed": true
   },
   "outputs": [],
   "source": [
    "nodups=list(set(superlist)) \n",
    "davewillshared_nodups=list(set(davewillshared)) \n",
    "davejamesshared_nodups=list(set(davejamesshared)) \n",
    "willjamesshared_nodups=list(set(willjamesshared)) "
   ]
  },
  {
   "cell_type": "code",
   "execution_count": null,
   "metadata": {
    "collapsed": true
   },
   "outputs": [],
   "source": []
  }
 ],
 "metadata": {
  "kernelspec": {
   "display_name": "Python 2",
   "language": "python",
   "name": "python2"
  },
  "language_info": {
   "codemirror_mode": {
    "name": "ipython",
    "version": 2
   },
   "file_extension": ".py",
   "mimetype": "text/x-python",
   "name": "python",
   "nbconvert_exporter": "python",
   "pygments_lexer": "ipython2",
   "version": "2.7.9"
  }
 },
 "nbformat": 4,
 "nbformat_minor": 0
}
